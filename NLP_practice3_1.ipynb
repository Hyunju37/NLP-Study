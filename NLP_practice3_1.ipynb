{
 "cells": [
  {
   "cell_type": "markdown",
   "metadata": {},
   "source": [
    "실습 3.1 Text Classification with RNN model"
   ]
  },
  {
   "cell_type": "markdown",
   "metadata": {},
   "source": [
    "# Dataset Load"
   ]
  },
  {
   "cell_type": "code",
   "execution_count": 1,
   "metadata": {},
   "outputs": [
    {
     "name": "stdout",
     "output_type": "stream",
     "text": [
      "[['부산', '행', '때문', '너무', '기대하고', '봤'], ['한국', '좀비', '영화', '어색하지', '않게', '만들어졌', '놀랍']]\n"
     ]
    }
   ],
   "source": [
    "with open('./Korean_movie_reviews_2016.txt', encoding='utf-8') as f:\n",
    "    docs = [doc.strip().split('\\t') for doc in f]\n",
    "    docs = [(doc[0], int(doc[1])) for doc in docs if len(doc) == 2]\n",
    "    texts, labels = zip(*docs)\n",
    "    \n",
    "words_list = [doc.strip().split() for doc in texts]\n",
    "print(words_list[:2])"
   ]
  },
  {
   "cell_type": "markdown",
   "metadata": {},
   "source": [
    "# Dataset Preprocessing"
   ]
  },
  {
   "cell_type": "code",
   "execution_count": 2,
   "metadata": {},
   "outputs": [],
   "source": [
    "total_words = []\n",
    "for words in words_list:\n",
    "    total_words.extend(words)\n",
    "    \n",
    "from collections import Counter\n",
    "c = Counter(total_words)\n",
    "\n",
    "max_features = 10000\n",
    "common_words = [ word for word, count in c.most_common(max_features)]\n",
    "# 빈도를 기준으로 상위 10000개의 단어들만 선택\n",
    "\n",
    "# 각 단어에 대해서 index 생성하기\n",
    "words_dic = {}\n",
    "for index, word in enumerate(common_words):\n",
    "    words_dic[word]=index+1\n",
    "    \n",
    "# 각 문서를 상위 10000개 단어들에 대해서 index 번호로 표현하기\n",
    "filtered_indexed_words = []\n",
    "for review in words_list:\n",
    "    indexed_words=[]\n",
    "    for word in review:\n",
    "        try:\n",
    "            indexed_words.append(words_dic[word])\n",
    "        except:\n",
    "            pass\n",
    "    filtered_indexed_words.append(indexed_words)"
   ]
  },
  {
   "cell_type": "markdown",
   "metadata": {},
   "source": [
    "# Dataset Loader for Model"
   ]
  },
  {
   "cell_type": "code",
   "execution_count": 3,
   "metadata": {},
   "outputs": [],
   "source": [
    "from tensorflow.keras.preprocessing import sequence\n",
    "from tensorflow.keras.utils import to_categorical\n",
    "# X input padding\n",
    "max_len = 40\n",
    "X = sequence.pad_sequences(filtered_indexed_words, maxlen=max_len)\n",
    "# y to one-hot category labeling\n",
    "y_one_hot = to_categorical(labels)"
   ]
  },
  {
   "cell_type": "code",
   "execution_count": 4,
   "metadata": {},
   "outputs": [
    {
     "name": "stdout",
     "output_type": "stream",
     "text": [
      "132307\n",
      "33077\n"
     ]
    }
   ],
   "source": [
    "from sklearn.model_selection import train_test_split\n",
    "X_train, X_test, y_train, y_test = train_test_split(X, y_one_hot, test_size=0.2)\n",
    "\n",
    "print(len(X_train))\n",
    "print(len(X_test))"
   ]
  },
  {
   "cell_type": "markdown",
   "metadata": {},
   "source": [
    "## Model Build\n",
    "실습문제 3.1.1 Bidirectional LSTM을 구현하여 모델링을 완성하시오\n",
    "from tensorflow.kears import layers"
   ]
  },
  {
   "cell_type": "code",
   "execution_count": 54,
   "metadata": {},
   "outputs": [
    {
     "name": "stdout",
     "output_type": "stream",
     "text": [
      "Model: \"sequential_23\"\n",
      "_________________________________________________________________\n",
      " Layer (type)                Output Shape              Param #   \n",
      "=================================================================\n",
      " embedding_23 (Embedding)    (None, 40, 64)            640064    \n",
      "                                                                 \n",
      " bidirectional_34 (Bidirect  (None, 40, 64)            24832     \n",
      " ional)                                                          \n",
      "                                                                 \n",
      " bidirectional_35 (Bidirect  (None, 32)                10368     \n",
      " ional)                                                          \n",
      "                                                                 \n",
      " dense_27 (Dense)            (None, 16)                528       \n",
      "                                                                 \n",
      " dropout_4 (Dropout)         (None, 16)                0         \n",
      "                                                                 \n",
      " dense_28 (Dense)            (None, 2)                 34        \n",
      "                                                                 \n",
      "=================================================================\n",
      "Total params: 675826 (2.58 MB)\n",
      "Trainable params: 675826 (2.58 MB)\n",
      "Non-trainable params: 0 (0.00 Byte)\n",
      "_________________________________________________________________\n"
     ]
    }
   ],
   "source": [
    "from tensorflow.keras import layers\n",
    "from tensorflow.keras import Sequential\n",
    "\n",
    "from tensorflow.keras.callbacks import EarlyStopping\n",
    "from tensorflow.keras.callbacks import ModelCheckpoint\n",
    "from tensorflow.keras.optimizers import Adam, AdamW, RMSprop\n",
    "\n",
    "model = Sequential()\n",
    "\n",
    "model.add(layers.Embedding(max_features+1, 64, input_shape=(max_len, )))\n",
    "'''\n",
    "Bidirectional 파라미터\n",
    "merge_mode: mode by which outputs of the forward and backward RNNs will be combined.\n",
    "One of {sum/mul/concat(default)/ave/None} If None, the outputs will not be combined, they will be returned as a list.\n",
    "'''\n",
    "# return_sequence=True : whether to return the last output in the output sequence, or the full sequence\n",
    "# return_state=True : whether to return the last state in addition to the output. \n",
    "model.add(layers.Bidirectional(layers.LSTM(32, return_sequences=True), merge_mode='concat'))\n",
    "model.add(layers.Bidirectional(layers.LSTM(16)))\n",
    "model.add(layers.Dense(16, activation='relu'))\n",
    "model.add(layers.Dropout(0.5))\n",
    "model.add(layers.Dense(2, activation='softmax')) #binary classification\n",
    "\n",
    "model.compile(optimizer=RMSprop(learning_rate=0.001), loss='binary_crossentropy', metrics=['accuracy'])\n",
    "model.summary()\n",
    "\n",
    "es = EarlyStopping(monitor='val_loss', mode='min', verbose = 1, patience=2)"
   ]
  },
  {
   "cell_type": "markdown",
   "metadata": {},
   "source": [
    "# Training"
   ]
  },
  {
   "cell_type": "code",
   "execution_count": 55,
   "metadata": {},
   "outputs": [
    {
     "name": "stdout",
     "output_type": "stream",
     "text": [
      "Epoch 1/5\n",
      "827/827 [==============================] - 85s 95ms/step - loss: 0.4264 - accuracy: 0.7995 - val_loss: 0.2766 - val_accuracy: 0.8858\n",
      "Epoch 2/5\n",
      "827/827 [==============================] - 81s 98ms/step - loss: 0.2818 - accuracy: 0.8933 - val_loss: 0.3040 - val_accuracy: 0.8908\n",
      "Epoch 3/5\n",
      "827/827 [==============================] - 91s 110ms/step - loss: 0.2591 - accuracy: 0.9030 - val_loss: 0.2628 - val_accuracy: 0.8921\n",
      "Epoch 4/5\n",
      "827/827 [==============================] - 85s 103ms/step - loss: 0.2438 - accuracy: 0.9099 - val_loss: 0.2569 - val_accuracy: 0.8947\n",
      "Epoch 5/5\n",
      "827/827 [==============================] - 88s 107ms/step - loss: 0.2304 - accuracy: 0.9154 - val_loss: 0.2517 - val_accuracy: 0.8958\n"
     ]
    }
   ],
   "source": [
    "history = model.fit(X_train, y_train, epochs=5, batch_size=128, validation_split=0.2, callbacks=[es])"
   ]
  },
  {
   "cell_type": "markdown",
   "metadata": {},
   "source": [
    "# Test"
   ]
  },
  {
   "cell_type": "code",
   "execution_count": 56,
   "metadata": {},
   "outputs": [
    {
     "data": {
      "image/png": "[encoded data removed]",
      "text/plain": [
       "<Figure size 640x480 with 1 Axes>"
      ]
     },
     "metadata": {},
     "output_type": "display_data"
    }
   ],
   "source": [
    "import matplotlib.pyplot as plt\n",
    "\n",
    "plt.plot(history.history['loss'])\n",
    "plt.plot(history.history['val_loss'])\n",
    "plt.xlabel('epoch')\n",
    "plt.ylabel('loss')\n",
    "plt.legend(['train','val'])\n",
    "plt.show()"
   ]
  },
  {
   "cell_type": "code",
   "execution_count": 57,
   "metadata": {},
   "outputs": [
    {
     "name": "stdout",
     "output_type": "stream",
     "text": [
      "1034/1034 [==============================] - 15s 15ms/step - loss: 0.2520 - accuracy: 0.8965\n",
      "Loss: 0.25201135873794556\n",
      "Accuracy: 0.8965141773223877\n"
     ]
    }
   ],
   "source": [
    "test_loss, test_acc = model.evaluate(X_test, y_test)\n",
    "print(\"Loss:\", test_loss)\n",
    "print(\"Accuracy:\", test_acc)"
   ]
  },
  {
   "cell_type": "markdown",
   "metadata": {},
   "source": [
    "# 실습 3.2 Machine Translation with Seq2Seq model"
   ]
  },
  {
   "cell_type": "code",
   "execution_count": 1,
   "metadata": {},
   "outputs": [],
   "source": [
    "import tensorflow as tf\n",
    "\n",
    "import matplotlib.pyplot as plt\n",
    "import matplotlib.ticker as ticker\n",
    "from sklearn.model_selection import train_test_split\n",
    "\n",
    "import unicodedata\n",
    "import numpy as np\n",
    "import os\n",
    "import io\n",
    "import re\n",
    "import time"
   ]
  },
  {
   "cell_type": "markdown",
   "metadata": {},
   "source": [
    "Dataset Preprocessing"
   ]
  },
  {
   "cell_type": "code",
   "execution_count": 2,
   "metadata": {},
   "outputs": [],
   "source": [
    "def unicode_to_ascii(s):\n",
    "  return ''.join(c for c in unicodedata.normalize('NFD', s) # decompose string 's' into its base characters and combining characters using the Normalization Form D(NFD) scheme\n",
    "                 if unicodedata.category(c)!= 'Mn') #checks if the character's category, obtained using unicodedata.category(), is not equal to 'Mn' \n",
    "#(Mn stands for 'Mark, Nonspacing' which includes diacritic marks like accents, umlauts, etc. So this condition effecively filters out all diacritic marks from the string)\n",
    "\n",
    "def preprocess_sentence(w):\n",
    "  w = unicode_to_ascii(w.lower().strip())\n",
    "  # 단어와 단어 뒤에 오는 구두점(.)사이에 공백을 생성.\n",
    "    # 예시: \"he is a boy.\" => \"he is a boy .\"\n",
    "    # 참고:- https://stackoverflow.com/questions/3645931/python-padding-punctuation-with-white-spaces-keeping-punctuation\n",
    "  w = re.sub(r\"([?.!,¿])\", r\" \\1 \", w)\n",
    "  w = re.sub(r'[\" \"]+', \" \",w)\n",
    "  # (a-z, A-Z, \".\", \"?\", \"!\", \",\")을 제외한 모든 것을 공백으로 대체합니다.\n",
    "  # w = re.sub(r\"[^a-zA-Z?.!,¿]+\", \" \", w)\n",
    "  w = w.strip()\n",
    "\n",
    "  # 모델이 예측을 시작하거나 중단할 때를 알게 하기 위해서\n",
    "    # 문장에 start와 end 토큰을 추가합니다.\n",
    "    \n",
    "  w = '<start> ' + w + ' <end>'\n",
    "  return w"
   ]
  },
  {
   "cell_type": "code",
   "execution_count": 3,
   "metadata": {},
   "outputs": [
    {
     "name": "stdout",
     "output_type": "stream",
     "text": [
      "<start> doubtless there exists in this world precisely the right woman for any given man to marry and vice versa; but when you consider that a human being has the opportunity of being acquainted with only a few hundred people , and out of the few hundred that there are but a dozen or less whom he knows intimately , and out of the dozen , one or two friends at most , it will easily be seen , when we remember the number of millions who inhabit this world , that probably , since the earth was created , the right man has never yet met the right woman . <end>\n",
      "<start> 의심의 여지 없이 세상에는 어떤 남자이든 정확히 딱 알맞는 여자와 결혼하거나 그 반대의 상황이 존재하지 . 그런데 인간이 수백 명의 사람만 알고 지내는 사이가 될 기회를 갖는다고 생각해 보면 , 또 그 수백 명 중 열여 명 쯤 이하만 잘 알 수 있고 , 그리고 나서 그 열여 명 중에 한두 명만 친구가 될 수 있다면 , 그리고 또 만일 우리가 이 세상에 살고 있는 수백만 명의 사람들만 기억하고 있다면 , 딱 맞는 남자는 지구가 생겨난 이래로 딱 맞는 여자를 단 한번도 만난 적이 없을 수도 있을 거라는 사실을 쉽게 눈치챌 수 있을 거야 . <end>\n",
      "5890\n",
      "5890\n"
     ]
    }
   ],
   "source": [
    "# 1. 문장에 있는 억양을 제거합니다.\n",
    "# 2. 불필요한 문자를 제거하여 문장을 정리합니다.\n",
    "# 3. 다음과 같은 형식으로 문장의 쌍을 반환합니다: [영어, 스페인어]\n",
    "\n",
    "def create_dataset(path, num_examples):\n",
    "  ens = []\n",
    "  spas = []\n",
    "  lines = io.open(path, encoding='UTF-8').read().strip().split('\\n')\n",
    "  for l in lines[:num_examples]:\n",
    "    word_pairs = [preprocess_sentence(w) for w in l.split('\\t')[:2]]\n",
    "    en, spa = word_pairs\n",
    "    ens.append(en)\n",
    "    spas.append(spa)\n",
    "  return ens, spas\n",
    "\n",
    "path_to_file = \"kor.txt\"\n",
    "en, kor = create_dataset(path_to_file, None)\n",
    "\n",
    "print(en[-1])\n",
    "print(kor[-1])\n",
    "\n",
    "print(len(en))\n",
    "print(len(kor))"
   ]
  },
  {
   "cell_type": "markdown",
   "metadata": {},
   "source": [
    "Tokenizing & Padding & Data Loading "
   ]
  },
  {
   "cell_type": "code",
   "execution_count": 5,
   "metadata": {},
   "outputs": [],
   "source": [
    "def tokenize(lang):\n",
    "  lang_tokenizer = tf.keras.preprocessing.text.Tokenizer(filters='') #no characters are filtered out during tokenization\n",
    "  lang_tokenizer.fit_on_texts(lang) #fits the tokenizer on the input text 'lang'. This step updates the internal vocabulary of the tokenizer based on the words(or tokens) present in the input text\n",
    "  tensor = lang_tokenizer.texts_to_sequences(lang) #converts the text sequences in 'lang' into sequence of integers.(index according to the vocabulary learned by the previous step)\n",
    "  tensor = tf.keras.preprocessing.sequence.pad_sequences(tensor, padding='post') # pads the sequences of integers in 'tensor' to ensure that they all have the same length\n",
    "  return tensor, lang_tokenizer"
   ]
  },
  {
   "cell_type": "code",
   "execution_count": 6,
   "metadata": {},
   "outputs": [],
   "source": [
    "def load_dataset(path, num_examples=None):\n",
    "  # 전처리된 타겟 문장과 입력 문장 쌍을 생성합니다.\n",
    "  targ_lang, inp_lang = create_dataset(path, num_examples)\n",
    "  input_tensor, inp_lang_tokenizer = tokenize(inp_lang)\n",
    "  target_tensor, targ_lang_tokenizer = tokenize(targ_lang)\n",
    "  return input_tensor, target_tensor, inp_lang_tokenizer, targ_lang_tokenizer"
   ]
  },
  {
   "cell_type": "code",
   "execution_count": 7,
   "metadata": {},
   "outputs": [
    {
     "name": "stdout",
     "output_type": "stream",
     "text": [
      "4712 4712 1178 1178\n"
     ]
    }
   ],
   "source": [
    "# 언어 데이터셋을 아래의 크기로 제한하여 훈련과 검증을 수행합니다.\n",
    "num_examples = 10000\n",
    "input_tensor, target_tensor, inp_lang, targ_lang = load_dataset(path_to_file, num_examples)\n",
    "\n",
    "# 타겟 텐서와 입력 텐서의 최대 길이를 계산합니다.\n",
    "max_length_targ, max_length_inp = target_tensor.shape[1], input_tensor.shape[1]\n",
    "\n",
    "# 훈련 집합과 검증 집합을 80대 20으로 분리합니다.\n",
    "input_tensor_train, input_tensor_val, target_tensor_train, target_tensor_val = train_test_split(input_tensor, target_tensor, test_size=0.2)\n",
    "\n",
    "# 훈련 집합과 검증 집합의 데이터 크기를 출력합니다.\n",
    "print(len(input_tensor_train), len(target_tensor_train), len(input_tensor_val), len(target_tensor_val))"
   ]
  },
  {
   "cell_type": "code",
   "execution_count": 8,
   "metadata": {},
   "outputs": [
    {
     "name": "stdout",
     "output_type": "stream",
     "text": [
      "112 97\n"
     ]
    }
   ],
   "source": [
    "print(max_length_targ, max_length_inp)"
   ]
  },
  {
   "cell_type": "code",
   "execution_count": 9,
   "metadata": {},
   "outputs": [
    {
     "name": "stdout",
     "output_type": "stream",
     "text": [
      "Input Language; index to word mapping\n",
      "1 ----> <start>\n",
      "8 ----> 톰이\n",
      "2077 ----> 마실\n",
      "12 ----> 수\n",
      "44 ----> 있는\n",
      "70 ----> 것은\n",
      "745 ----> 오직\n",
      "329 ----> 물\n",
      "406 ----> 뿐이야\n",
      "3 ----> .\n",
      "2 ----> <end>\n",
      "\n",
      "Target Language; index to word mapping\n",
      "1 ----> <start>\n",
      "150 ----> water\n",
      "10 ----> is\n",
      "9 ----> the\n",
      "178 ----> only\n",
      "433 ----> thing\n",
      "5 ----> tom\n",
      "68 ----> will\n",
      "303 ----> drink\n",
      "3 ----> .\n",
      "2 ----> <end>\n"
     ]
    }
   ],
   "source": [
    "def convert(lang, tensor):\n",
    "    for t in tensor:\n",
    "        if t!=0:\n",
    "            print (\"%d ----> %s\" % (t, lang.index_word[t]))\n",
    "            \n",
    "print (\"Input Language; index to word mapping\")\n",
    "convert(inp_lang, input_tensor_train[0])\n",
    "print ()\n",
    "print (\"Target Language; index to word mapping\")\n",
    "convert(targ_lang, target_tensor_train[0])"
   ]
  },
  {
   "cell_type": "markdown",
   "metadata": {},
   "source": [
    "Model Build for Training"
   ]
  },
  {
   "cell_type": "code",
   "execution_count": 13,
   "metadata": {},
   "outputs": [],
   "source": [
    "BUFFER_SIZE = len(input_tensor_train)\n",
    "BATCH_SIZE = 64\n",
    "steps_per_epoch = len(input_tensor_train)//BATCH_SIZE\n",
    "# calculates the number of steps per epoch based on the length of the training input tensor and the chosen batch size.\n",
    "# for defining the number of iterations per epoch during training\n",
    "embedding_dim = 128\n",
    "units = 512 # number of units in the recurrent units\n",
    "vocab_inp_size = len(inp_lang.word_index)+1\n",
    "vocab_tar_size = len(targ_lang.word_index)+1\n",
    "#+1 is for accomodating the padding token.\n",
    "dataset = tf.data.Dataset.from_tensor_slices((input_tensor_train, target_tensor_train)).shuffle(BUFFER_SIZE)\n",
    "dataset = dataset.batch(BATCH_SIZE, drop_remainder=True) #drop_remainder: ensures that any remaining samples that don't fit into a full batch are dropped."
   ]
  },
  {
   "cell_type": "code",
   "execution_count": 18,
   "metadata": {},
   "outputs": [
    {
     "data": {
      "text/plain": [
       "(TensorShape([64, 97]), TensorShape([64, 112]))"
      ]
     },
     "execution_count": 18,
     "metadata": {},
     "output_type": "execute_result"
    }
   ],
   "source": [
    "#dataset 크기출력 ///왜 1차원???not 2차원?? dataset 오타.\n",
    "example_input_batch, example_target_batch = next(iter(dataset))\n",
    "example_input_batch.shape, example_target_batch.shape"
   ]
  },
  {
   "cell_type": "markdown",
   "metadata": {},
   "source": [
    "## 인코더 모델과 디코더 모델 쓰기\n",
    "어텐션(attention)을 가진 인코더-디코더 모델을 수행합니다. 어텐션(attention)은 TensorFlow Neural Machine Translation (seq2seq) tutorial에서 읽을 수 있습니다. 이 예제는 더 최신의 API 집합을 사용합니다. 이 노트북은 seq2seq 튜토리얼로부터 어텐션 방정식을 수행합니다. 아래의 다이어그램은 각각의 입력 단어가 어텐션 메커니즘에 의해 가중치가 할당된 모습입니다. 이러한 어텐션 메커니즘은 디코더가 문장에서 다음 단어를 예측하기 위해 사용됩니다. 아래의 그림과 공식은 Luong's paper에서 나온 어텐션 메커니즘의 예시입니다.\n",
    "\n",
    "![image.png](attachment:c0952e5c-9c02-49c8-9117-f3fcf6b60447.png)![image.png](attachment:c0444d39-21a8-43e4-9792-86205b74b8ed.png)\n",
    "\n",
    "이 튜토리얼은 인코더를 위해 Bahdanau 어텐션을 사용합니다. 단순화된 형태로 쓰기 전에 표기법을 아래와 같이 정의합니다:\n",
    "\n",
    "FC = 완전 연결(Dense)층\n",
    "\n",
    "EO = 인코더 결과\n",
    "\n",
    "H = 은닉 상태(hidden state)\n",
    "\n",
    "X = 디코더에 대한 입력\n",
    "그리고 다음은 슈도코드입니다:\n",
    "\n",
    "스코어(score)는 FC(tanh(FC(EO) + FC(H)))로 계산합니다.\n",
    "어텐션 가중치는 softmax(score, axis = 1)로 계산합니다. 기본적으로 소프트맥스는 마지막 축을 적용하지만 스코어(score)의 형태가 (batch_size, max_length, hidden_size)이기 때문에 첫번째 축을 적용합니다. Max_length은 입력의 길이입니다. 각각의 입력에 가중치를 할당하려고 시도하기 때문에 소프트맥스는 그 축을 적용할 수 있습니다.\n",
    "컨텍스트 벡터(context vector)는 sum(어텐션 가중치 * EO, axis = 1)로 계산합니다. 위와 같은 이유로 첫번째 축을 선택합니다.\n",
    "임베딩 결과(embedding output)는 디코더 X에 대한 입력이 임베딩층을 통과한 결과입니다.\n",
    "병합된 벡터(merged vector)는 concat(임베딩 결과, 컨텍스트 백터(context vector))와 같습니다.\n",
    "그런 다음 병합된 벡터는 GRU에 주어집니다."
   ]
  },
  {
   "cell_type": "markdown",
   "metadata": {},
   "source": [
    "### 실습 문제 3.2.1 Encoder & Attention & Decoder 각 Class 이해하고 주석 달기"
   ]
  },
  {
   "cell_type": "code",
   "execution_count": 104,
   "metadata": {},
   "outputs": [],
   "source": [
    "class Encoder(tf.keras.Model): #tf.keras.Model 클래스를 상속받아 Encoder Class 구현\n",
    "    def __init__(self, vocab_size, embedding_dim, enc_units, batch_sz): #4가지 파라미터를 이용하는 인코더 생성자 메소드\n",
    "        # 1) vocab_size : 어휘 수(=input 랭귀지에서 unique한 토큰의 개수)\n",
    "        # 2) embedding_dim : 임베딩 공간의 차원 값(각 단어는 해당 차원의 밀집벡터로 표현된다)\n",
    "        # 3) enc_units : 인코더의 GRU 레이어 유닛(뉴런) 개수. (이는 인코더가 학습 및 표현할 수 있는 input 시퀀스의 용량을 결정한다)\n",
    "        # 4) batch_sz : 배치 사이즈(학습 중 동시에 처리되는 시퀀스의 개수)\n",
    "        \n",
    "        super(Encoder, self).__init__() # 상위 클래스의 attribute와 메소드 받기 위해 생성자 호출 \n",
    "        \n",
    "        self.batch_sz = batch_sz # 배치 사이즈 설정\n",
    "        self.enc_units = enc_units # 유닛 개수 설정\n",
    "        self.embedding = tf.keras.layers.Embedding(vocab_size, embedding_dim) # 임베딩 레이어 생성. 임베딩 레이어는\n",
    "        # 토큰화된 input sequence를 고정 길이(embedding_dim)의 밀집 벡터로 바꾸어 준다. vocab_size와 embedding_dim 파라미터 필요\n",
    "        \n",
    "        # RNN 레이어(GRU) 생성 - basic RNN이 아닌 GRU를 사용해 long-range dependency를 학습할 수 있도록 한다\n",
    "        self.gru = tf.keras.layers.GRU(self.enc_units, #GRU 레이어에서의 유닛 개수\n",
    "                                   return_sequences=True, #GRU 레이어가 각 input sequence에 대한 전체 출력 시퀀스를 반환하도록 함  \n",
    "                                   return_state=True, #GRU 레이어가 출력 뿐 아니라 마지막 상태를 출력하도록 함\n",
    "                                   recurrent_initializer='glorot_uniform') #GRU 레이어의 가중치 초깃값을 Glorot uniform 으로 설정\n",
    "\n",
    "        # GlorotUniform은 [-limit, limit]범위로 정규 분포를 기반으로 샘플 값 생성. limit = sqrt(6/(fan_in+fan_out))\n",
    "        # fan_in은 가중치 텐서에 있는 입력층 유닛의 개수, fan_out은 출력층 유닛의 개수\n",
    "    \n",
    "    def call(self, x, hidden): #인코더 클래스의 call method 정의 - call()은 인코더모델이 호출될 때 릴행된다\n",
    "        # x: input data(토큰화된 입력시퀀스)\n",
    "        # hidden: GRU 레이어의 초기 은닉상태\n",
    "        x = self.embedding(x) #입력 시퀀스를 임베딩 레이어에 통과시켜서 밀집 벡터 표현을 얻는다\n",
    "        output, state = self.gru(x, initial_state = hidden) # 출력 시퀀스(output)와 마지막 은닉상태(state)를 계산한다(return_state=True로 설정했기 때문에 두 가지 값을 반환받음)\n",
    "        return output, state #output과 state을 반환\n",
    "\n",
    "    def initialize_hidden_state(self): # 새로운 batch를 처리하기 전 GRU 레이어의 hidden state를 초기화하는 메소드\n",
    "        return tf.zeros((self.batch_sz, self.enc_units)) #(batch_sz, enc_units)의 shape을 가지는 텐서 0으로 초기화\n",
    "  \n",
    "class BahdanauAttention(tf.keras.layers.Layer): #tf.keras.layers.layer 클래스를 상속받아 \n",
    "    def __init__(self, units): #생성자\n",
    "        #생성자 파라미터 'units': 어텐션 메커니즘에서의 차원수(어텐션 스코어를 계산하기 위한 내부 Dense 레이어의 유닛 개수이다)\n",
    "        \n",
    "        super(BahdanauAttention, self).__init__() #상위 클래스의 생성자 호출\n",
    "        \n",
    "        self.W1 = tf.keras.layers.Dense(units) #units 값 개수만큼의 유닛을 가지는 Dense Layer 생성\n",
    "        # W1 레이어는 attention score를 계산하기 전 쿼리 벡터들이 모두 같은 차원수를 가지도록 변환해주는 역할\n",
    "        self.W2 = tf.keras.layers.Dense(units) #units 값 개수만큼의 유닛을 가지는 Dense Layer 생성\n",
    "        # W2 레이어는 attention score를 계산하기 전 인코더 출력값들이 모두 같은 차원수를 가지도록 변환해주는 역할\n",
    "        self.V = tf.keras.layers.Dense(1) #한 개의 unit을 갖는 Dense Layer 생성. \n",
    "        # V 레이어는 attention score를 계산 후 softmax을 취해 attention weight(어텐션 가중치)을 얻는 역할\n",
    "\n",
    "    def call(self, query, values):\n",
    "        #호출자 파라미터 query: 현재 time step에서의 쿼리 벡터. (seq2seq 모델에서 보통 디코더의 마지막 상태)\n",
    "        #호출자 파라미터 values: value값(인코더에서 모든 time step에서의 output)\n",
    "        \n",
    "        #query 벡터에 time axis를 추가한다. 이는 query의 shape을 values의 shape과 맞추어 주기 위함\n",
    "        query_with_time_axis = tf.expand_dims(query, 1)\n",
    "        \n",
    "        #어텐션 스코어 계산. 각각 W1,W2를 이용해 query와 values 값을 변환하고 그 둘을 더한 다음, \n",
    "        #hyperbolic tangent 활성화 함수를 적용한 결과를 V에 통과시킨다.\n",
    "        score = self.V(tf.nn.tanh(self.W1(query_with_time_axis) + self.W2(values)))\n",
    "\n",
    "        #softmax 함수(모든 가중치값의 합 1 되게끔)를 적용해 attention weights 계산. \n",
    "        attention_weights = tf.nn.softmax(score, axis=1)\n",
    "\n",
    "        #attention weights와 values를 element-wise multiplication 통해 컨텍스트 벡터 계산.(weighted sum)\n",
    "        context_vector = attention_weights * values\n",
    "\n",
    "        #최종 컨텍스트 벡터를 얻기 위해 시간 축을 기준으로 가중치 값 합산. 이는 어텐션 메커니즘을 기반으로\n",
    "        #입력 시퀀스에서 관련 정보를 캡처하는 벡터이다.\n",
    "        #x = tf.constant([[1,1,1],[1,1,1]])\n",
    "        #tf.reduce_sum(x) -> 6\n",
    "        #tf.reduce_sum(x,axis=0) -> [2,2,2]\n",
    "        #tf.reduce_sum(x,axis=1) -> [3,3]\n",
    "        context_vector = tf.reduce_sum(context_vector, axis=1)\n",
    "\n",
    "        #context vector와 attention weights를 반환.\n",
    "        return context_vector, attention_weights\n",
    "    \n",
    "class Decoder(tf.keras.Model): #tf.keras.Model 클래스를 상속받아 Decoder Class 구현\n",
    "    def __init__(self, vocab_size, embedding_dim, dec_units, batch_sz):\n",
    "        # 1) vocab_size : 어휘 수(target 랭귀지의)\n",
    "        # 2) embedding_dim : 임베딩 공간의 차원 값(target 언어에서의 각 단어는 해당 차원의 밀집벡터로 표현된다)\n",
    "        # 3) dec_units : 디코더의 GRU 게이어 유닛(뉴런) 개수. \n",
    "        # 4) batch_sz : 배치 사이즈 \n",
    "\n",
    "        super(Decoder, self).__init__() #상속받은 상위 클래스의 생성자 호출\n",
    "        \n",
    "        #attribute 값 설정\n",
    "        self.batch_sz = batch_sz\n",
    "        self.dec_units = dec_units\n",
    "        \n",
    "        # 디코더 임베딩 레이어 생성.토큰화된 input sequence를 고정 길이(embedding_dim)의 밀집 벡터로 바꾸어 준다\n",
    "        self.embedding = tf.keras.layers.Embedding(vocab_size, embedding_dim)\n",
    "\n",
    "        # RNN 레이어(GRU) 생성 - dec_units 개의 유닛을 가지고 return_sequence, return_state를 모두 True로 설정해 줌으로써\n",
    "        # 각 input sequence에 대한 전체 출력 시퀀스, 디코더의 마지막 상태도 받도록.\n",
    "        # GRU 레이어의 가중치 초깃값을 Glorot uniform 으로 설정\n",
    "        self.gru = tf.keras.layers.GRU(self.dec_units,\n",
    "                                       return_sequences=True,\n",
    "                                       return_state=True,\n",
    "                                       recurrent_initializer='glorot_uniform')\n",
    "        \n",
    "        # Fully connected layer 생성 <- target vocabulary 상 확률 분포를 얻기 위함\n",
    "        self.fc = tf.keras.layers.Dense(vocab_size)\n",
    "\n",
    "        # BahdanauAttention 클래스의 인스턴스를 생성하여 어텐션 메커니즘을 이용해 디코더가 디코딩 과정에서 그때그때 다른\n",
    "        # input sequence의 부분에 더 집중할 수 있도록 한다\n",
    "        self.attention = BahdanauAttention(self.dec_units)\n",
    "\n",
    "    def call(self, x, hidden, enc_output): #호출자\n",
    "        # x: 현재 time step의 input data(토큰화된 시퀀스)\n",
    "        # hidden: 이전 time step의 GRU 레이어 은닉상태--처음은 인코더에서 마지막 hidden state\n",
    "        # enc_output: input sequence의 정보를 담고 있는 인코더의 출력\n",
    "\n",
    "        # Bahdanau Attention을 통해 context vector와 attention weights를 받는다\n",
    "        context_vector, attention_weights = self.attention(hidden, enc_output)\n",
    "        \n",
    "        # input data x를 임베딩 레이어에 통과시켜서 밀집 벡터 표현을 얻는다\n",
    "        x = self.embedding(x)\n",
    "        # 디코더의 GRU의 입력으로 쓰기 위해 context vector와 x를 concatenate\n",
    "        x = tf.concat([tf.expand_dims(context_vector, 1), x], axis=-1)\n",
    "        # x를 GRU 유닛에 통과시켜서 output sequence와 마지막 hidden state를 얻는다\n",
    "        output, state = self.gru(x)\n",
    "        #output 텐서를 reshape. reshape에 -1을 쓰면 다른 shape 값만 제대로 맞추도록 알아서 계산하라는 의미(텐서의 기존 요소들 모두 유지되도록)\n",
    "        output = tf.reshape(output, (-1, output.shape[2]))\n",
    "        #reshape 된 텐서를 fully connected layer에 통과시켜서 모든 타겟 어휘 상의 확률 분포(output logits)를 얻는다\n",
    "        x = self.fc(output)\n",
    "        # x(output logits), state(final hidden state), attention weights를 반환\n",
    "        #x는 예측된 타겟 시퀀스를 생성하기 위해, state는 다음 time step에 전달되기 위해\n",
    "        return x, state, attention_weights"
   ]
  },
  {
   "cell_type": "markdown",
   "metadata": {},
   "source": [
    "### Encoder-Attention-Decoder 구현"
   ]
  },
  {
   "cell_type": "code",
   "execution_count": 105,
   "metadata": {},
   "outputs": [
    {
     "data": {
      "text/plain": [
       "(7961, 3211)"
      ]
     },
     "execution_count": 105,
     "metadata": {},
     "output_type": "execute_result"
    }
   ],
   "source": [
    "vocab_inp_size, vocab_tar_size"
   ]
  },
  {
   "cell_type": "code",
   "execution_count": 106,
   "metadata": {},
   "outputs": [
    {
     "name": "stdout",
     "output_type": "stream",
     "text": [
      "Encoder output shape: (batch size, sequence length, units) (64, 97, 512)\n",
      "Encoder Hidden state shape: (batch size, units) (64, 512)\n",
      "Attention result shape: (batch size, units) (64, 512)\n",
      "Attention weights shape: (batch_size, sequence_length, 1) (64, 97, 1)\n",
      "Decoder output shape: (batch_size, vocab size) (64, 3211)\n"
     ]
    }
   ],
   "source": [
    "# encoder\n",
    "encoder = Encoder(vocab_inp_size, embedding_dim, units, BATCH_SIZE)\n",
    "\n",
    "# 샘플 입력\n",
    "sample_hidden = encoder.initialize_hidden_state()\n",
    "sample_output, sample_hidden = encoder(example_input_batch, sample_hidden)\n",
    "print ('Encoder output shape: (batch size, sequence length, units) {}'.format(sample_output.shape))\n",
    "print ('Encoder Hidden state shape: (batch size, units) {}'.format(sample_hidden.shape))\n",
    "\n",
    "# encoder-decoder attention\n",
    "attention_layer = BahdanauAttention(10)\n",
    "attention_result, attention_weights = attention_layer(sample_hidden, sample_output)\n",
    "\n",
    "print(\"Attention result shape: (batch size, units) {}\".format(attention_result.shape))\n",
    "print(\"Attention weights shape: (batch_size, sequence_length, 1) {}\".format(attention_weights.shape))\n",
    "\n",
    "# decoder\n",
    "decoder = Decoder(vocab_tar_size, embedding_dim, units, BATCH_SIZE)\n",
    "\n",
    "sample_decoder_output, _, _ = decoder(tf.random.uniform((BATCH_SIZE, 1)),\n",
    "                                      sample_hidden, sample_output)\n",
    "\n",
    "print ('Decoder output shape: (batch_size, vocab size) {}'.format(sample_decoder_output.shape))"
   ]
  },
  {
   "cell_type": "markdown",
   "metadata": {},
   "source": [
    "### Training Setup"
   ]
  },
  {
   "cell_type": "code",
   "execution_count": 107,
   "metadata": {},
   "outputs": [],
   "source": [
    "optimizer = tf.keras.optimizers.Adam()\n",
    "#Sparse Categorical Crossentropy \n",
    "#from_logits: whether y_pred is expected to be a logits tensor.\n",
    "#ruduction: Type of reduction to apply to the loss. In almost all cases this should be \n",
    "#'sum_over_batch_size'. supported options are {sum/sum over batch size} or None\n",
    "loss_object = tf.keras.losses.SparseCategoricalCrossentropy(from_logits=True, reduction='none')\n",
    "\n",
    "def loss_function(real, pred):\n",
    "    mask = tf.math.logical_not(tf.math.equal(real, 0))\n",
    "    # creates a mask where 'True' indicates the positions of non-padding tokens(where 'real' is not equal to 0),\n",
    "    # and 'False' indicates the positions of padding tokens. \n",
    "    loss_ = loss_object(real, pred)\n",
    "    # calculates the loss between the true labels(real) and the predicted labels(pred)\n",
    "\n",
    "    mask = tf.cast(mask, dtype=loss_.dtype)\n",
    "    # converts the mask to the same data type as the computed loss. This step is necessary to \n",
    "    # ensure that the mask can be multiplied element-wise with the loss.\n",
    "    loss_ *= mask\n",
    "\n",
    "    return tf.reduce_mean(loss_) #calculates the mean of the masked loss values\n",
    "\n",
    "checkpoint = tf.train.Checkpoint(optimizer=optimizer,\n",
    "                                 encoder=encoder,\n",
    "                                 decoder=decoder)"
   ]
  },
  {
   "cell_type": "markdown",
   "metadata": {},
   "source": [
    "### Training!\n",
    "\n",
    "언어 모델 훈련하기\n",
    "1. 인코더 결과와 인코더 은닉 상태(hidden state)를 반환하는 인코더를 통해서 입력을 전달합니다.\n",
    "2. 인코더 결과, 인코더 은닉 상태(hidden state), 디코더 입력 (start 토큰)을 디코더에 전달합니다.\n",
    "3. 전달 받은 값을 통해 디코더는 예측 값과 디코더 은닉 상태(hidden state)를 반환합니다.\n",
    "4. 그 다음에 디코더 은닉 상태(hidden state)가 다시 모델에 전달되고 예측 값을 사용하여 손실을 계산합니다.\n",
    "5. 디코더에 대한 다음 입력을 결정하기 위해서 교사 강요(teacher forcing)를 사용합니다.\n",
    "6. 교사 강요(teacher forcing)는 타겟 단어가 디코더에 다음 입력으로 전달하기 위한 기술입니다.\n",
    "7. 마지막 단계는 그레디언트(gradients)를 계산하여 이를 옵티마이저(optimizer)와 역전파(backpropagate)에 적용합니다."
   ]
  },
  {
   "cell_type": "code",
   "execution_count": 108,
   "metadata": {},
   "outputs": [],
   "source": [
    "def train_step(inp, targ, enc_hidden):\n",
    "  loss = 0\n",
    "  with tf.GradientTape() as tape:\n",
    "      # encoder\n",
    "      enc_output, enc_hidden = encoder(inp, enc_hidden)\n",
    "      dec_hidden = enc_hidden\n",
    "      \n",
    "      # decoder\n",
    "      dec_input = tf.expand_dims([targ_lang.word_index['<start>']] * BATCH_SIZE, 1)\n",
    "\n",
    "      # 교사 강요(teacher forcing) - 다음 입력으로 타겟을 피딩(feeding)합니다.\n",
    "      for t in range(1, targ.shape[1]):\n",
    "          # enc_output를 디코더에 전달합니다.\n",
    "          predictions, dec_hidden, _ = decoder(dec_input, dec_hidden, enc_output)\n",
    "          loss += loss_function(targ[:, t], predictions)\n",
    "\n",
    "          # 교사 강요(teacher forcing)를 사용합니다.\n",
    "          dec_input = tf.expand_dims(targ[:, t], 1)\n",
    "\n",
    "  batch_loss = (loss / int(targ.shape[1]))\n",
    "  #trainable_variables는 Encoder와 Decoder가 상속받은 클래스에 있는 속성\n",
    "  variables = encoder.trainable_variables + decoder.trainable_variables\n",
    "  gradients = tape.gradient(loss, variables)\n",
    "  optimizer.apply_gradients(zip(gradients, variables))\n",
    "  return batch_loss"
   ]
  },
  {
   "cell_type": "code",
   "execution_count": 109,
   "metadata": {},
   "outputs": [
    {
     "name": "stdout",
     "output_type": "stream",
     "text": [
      "Epoch 1 / Batch 0 / Loss 0.5508 / Time taken 31.897533655166626 sec\n",
      "Epoch 1 / Batch 10 / Loss 0.3547 / Time taken 342.49861764907837 sec\n",
      "Epoch 1 / Batch 20 / Loss 0.3687 / Time taken 653.7815310955048 sec\n",
      "Epoch 1 / Batch 30 / Loss 0.3527 / Time taken 963.0116488933563 sec\n",
      "Epoch 1 / Batch 40 / Loss 0.3608 / Time taken 1270.88419008255 sec\n",
      "Epoch 1 / Batch 50 / Loss 0.3544 / Time taken 1579.9503571987152 sec\n",
      "Epoch 1 / Batch 60 / Loss 0.3400 / Time taken 1885.4591567516327 sec\n",
      "Epoch 1 / Batch 70 / Loss 0.3801 / Time taken 2191.03932595253 sec\n",
      "Epoch 1 / Loss 0.3738\n",
      "Time taken for 1 epoch 2251.5741336345673 sec\n",
      "\n",
      "Epoch 2 / Batch 0 / Loss 0.3491 / Time taken 29.118820905685425 sec\n",
      "Epoch 2 / Batch 10 / Loss 0.3296 / Time taken 321.31594371795654 sec\n",
      "Epoch 2 / Batch 20 / Loss 0.3057 / Time taken 613.8220045566559 sec\n",
      "Epoch 2 / Batch 30 / Loss 0.3029 / Time taken 910.4554595947266 sec\n",
      "Epoch 2 / Batch 40 / Loss 0.3325 / Time taken 1200.2888412475586 sec\n",
      "Epoch 2 / Batch 50 / Loss 0.3455 / Time taken 1492.1392464637756 sec\n",
      "Epoch 2 / Batch 60 / Loss 0.2995 / Time taken 1871.080243587494 sec\n",
      "Epoch 2 / Batch 70 / Loss 0.2872 / Time taken 2173.143309354782 sec\n",
      "Epoch 2 / Loss 0.3202\n",
      "Time taken for 2 epoch 2239.8778355121613 sec\n",
      "\n",
      "Epoch 3 / Batch 0 / Loss 0.3098 / Time taken 37.95486378669739 sec\n",
      "Epoch 3 / Batch 10 / Loss 0.3248 / Time taken 377.2501974105835 sec\n",
      "Epoch 3 / Batch 20 / Loss 0.3008 / Time taken 694.8423750400543 sec\n",
      "Epoch 3 / Batch 30 / Loss 0.2700 / Time taken 1017.2994403839111 sec\n",
      "Epoch 3 / Batch 40 / Loss 0.2947 / Time taken 1330.7567796707153 sec\n",
      "Epoch 3 / Batch 50 / Loss 0.2887 / Time taken 1658.5948266983032 sec\n",
      "Epoch 3 / Batch 60 / Loss 0.3331 / Time taken 1971.4780609607697 sec\n",
      "Epoch 3 / Batch 70 / Loss 0.2638 / Time taken 2318.9419865608215 sec\n",
      "Epoch 3 / Loss 0.2991\n",
      "Time taken for 3 epoch 2388.8618512153625 sec\n",
      "\n"
     ]
    }
   ],
   "source": [
    "# 이 파트가 매우 오래걸림\n",
    "\n",
    "EPOCHS = 3\n",
    "\n",
    "for epoch in range(EPOCHS):\n",
    "  start = time.time()\n",
    "  \n",
    "  enc_hidden = encoder.initialize_hidden_state()\n",
    "  total_loss = 0\n",
    "\n",
    "  for (batch, (inp, targ)) in enumerate(dataset.take(steps_per_epoch)):\n",
    "      batch_loss = train_step(inp, targ, enc_hidden)\n",
    "      total_loss += batch_loss\n",
    "\n",
    "      if batch % 10 == 0:\n",
    "          print('Epoch {} / Batch {} / Loss {:.4f} / Time taken {} sec'.format(epoch + 1,\n",
    "                                                                                batch,\n",
    "                                                                                batch_loss.numpy(),\n",
    "                                                                                time.time() - start))\n",
    "  # 에포크가 2번 실행될때마다 모델 저장 (체크포인트)\n",
    "  #if (epoch + 1) % 2 == 0:\n",
    "  #    checkpoint.save(file_prefix = checkpoint_prefix)\n",
    "\n",
    "  print('Epoch {} / Loss {:.4f}'.format(epoch + 1,\n",
    "                                        total_loss / steps_per_epoch))\n",
    "  print('Time taken for {} epoch {} sec\\n'.format(epoch + 1,\n",
    "                                                  time.time() - start))"
   ]
  },
  {
   "cell_type": "code",
   "execution_count": 28,
   "metadata": {},
   "outputs": [],
   "source": [
    "def evaluate(sentence):\n",
    "    attention_plot = np.zeros((max_length_targ, max_length_inp))\n",
    "\n",
    "    sentence = preprocess_sentence(sentence)\n",
    "\n",
    "    inputs = [inp_lang.word_index[i] for i in sentence.split(' ')]\n",
    "    inputs = tf.keras.preprocessing.sequence.pad_sequences([inputs],\n",
    "                                                         maxlen=max_length_inp,\n",
    "                                                         padding='post')\n",
    "    inputs = tf.convert_to_tensor(inputs)\n",
    "\n",
    "    result = ''\n",
    "\n",
    "    hidden = [tf.zeros((1, units))]\n",
    "    enc_out, enc_hidden = encoder(inputs, hidden)\n",
    "\n",
    "    dec_hidden = enc_hidden\n",
    "    dec_input = tf.expand_dims([targ_lang.word_index['<start>']], 0)\n",
    "\n",
    "    for t in range(max_length_targ):\n",
    "        predictions, dec_hidden, attention_weights = decoder(dec_input,\n",
    "                                                             dec_hidden,\n",
    "                                                             enc_out)\n",
    "\n",
    "        # 나중에 어텐션 가중치를 시각화하기 위해 어텐션 가중치를 저장합니다.\n",
    "        attention_weights = tf.reshape(attention_weights, (-1, ))\n",
    "        attention_plot[t] = attention_weights.numpy()\n",
    "\n",
    "        predicted_id = tf.argmax(predictions[0]).numpy()\n",
    "\n",
    "        result += targ_lang.index_word[predicted_id] + ' '\n",
    "\n",
    "        if targ_lang.index_word[predicted_id] == '<end>':\n",
    "            return result, sentence, attention_plot\n",
    "\n",
    "        # 예측된 ID를 모델에 다시 피드합니다.\n",
    "        dec_input = tf.expand_dims([predicted_id], 0)\n",
    "\n",
    "    return result, sentence, attention_plot"
   ]
  },
  {
   "cell_type": "code",
   "execution_count": 83,
   "metadata": {},
   "outputs": [],
   "source": [
    "def translate(sentence):\n",
    "    result, sentence, attention_plot = evaluate(sentence)\n",
    "\n",
    "    #print('Input: %s' % (sentence))\n",
    "    #print('Predicted translation: {}'.format(result))\n",
    "    return result"
   ]
  },
  {
   "cell_type": "code",
   "execution_count": null,
   "metadata": {},
   "outputs": [],
   "source": [
    "translate('hace mucho frio aqui.')"
   ]
  },
  {
   "cell_type": "code",
   "execution_count": 43,
   "metadata": {},
   "outputs": [
    {
     "name": "stdout",
     "output_type": "stream",
     "text": [
      "Input: <start> 톰이 마실 수 있는 것은 오직 물 뿐이야 <end>\n",
      "Predicted translation: i don't don't be a a a a a a a a a a a a a a a a a a a a a a a a a a a a a a a a a a a a a a a a a a a a a a a a a a a a a a a a a a a a a a a a a a a a a a a a a a a a a a a a a a a a a a a a a a a a a a a a a a a a a a a a a a a a \n"
     ]
    }
   ],
   "source": [
    "translate('톰이 마실 수 있는 것은 오직 물 뿐이야')"
   ]
  },
  {
   "cell_type": "markdown",
   "metadata": {},
   "source": [
    "### 실습 문제 3.2.2 - BLEU 스코어 구현하기\n",
    "#### - Dataset Sample에서 Test 만들기\n",
    "#### - BLEU Score 구현 \n",
    "#### - 학습된 모델로 BLEU Score로 평가하기"
   ]
  },
  {
   "cell_type": "code",
   "execution_count": null,
   "metadata": {},
   "outputs": [],
   "source": [
    "# 한국어 input 영어 target"
   ]
  },
  {
   "cell_type": "code",
   "execution_count": 68,
   "metadata": {},
   "outputs": [],
   "source": [
    "# BLEU score \n",
    "import collections\n",
    "import math\n",
    "\n",
    "def ngram_counts(sentence, n):\n",
    "  words = sentence.split()\n",
    "  ngrams = [tuple(words[i:i+n]) for i in range(len(words)-n+1)]\n",
    "  return collections.Counter(ngrams)\n",
    "  #ngram 시퀀스마다 갯수를 센 Counter 딕셔너리 반환\n",
    "\n",
    "#문장길이에 대한 과적합 보정\n",
    "def brevity_penalty(pred, real):\n",
    "  p_len = len(pred.split())\n",
    "  r_len = len(real.split())\n",
    "  if p_len > r_len:\n",
    "    return 1\n",
    "  else:\n",
    "    return (p_len/r_len)\n",
    "    #return math.exp(1-r_len/p_len) #min(1, pred len/real len)\n",
    "\n",
    "def bleu_score(pred, real, weights=(0.25, 0.25, 0.25, 0.25)):\n",
    "  bp = brevity_penalty(pred, real)\n",
    "  ng = 1\n",
    "  \n",
    "  for i, weight in enumerate(weights, start=1):\n",
    "    #i-gram 1부터 4까지\n",
    "    gram_len = len(pred)-i+1 #분모(예측된 문장에서 n-gram 시퀀스의 길이)\n",
    "    cnt = 0\n",
    "    ngram_cnts_pred = ngram_counts(pred, i)\n",
    "    ngram_cnts_real = ngram_counts(real, i)\n",
    "    for key,value in ngram_cnts_pred.items():\n",
    "      if key in ngram_cnts_real:\n",
    "        # cnt += min(value, ngram_cnts_real[key]) \n",
    "        if value > ngram_cnts_real[key]:\n",
    "          cnt += ngram_cnts_real[key] #Clipping\n",
    "        else:\n",
    "          cnt += value\n",
    "    ng *= (cnt / gram_len)**weight\n",
    "  \n",
    "  return bp * ng\n"
   ]
  },
  {
   "cell_type": "code",
   "execution_count": null,
   "metadata": {},
   "outputs": [],
   "source": [
    "#Test data로 성능 평가해보기(BLUE)\n",
    "bleu = 0\n",
    "for i, sample in enumerate(input_tensor_val):\n",
    "  \n",
    "  inp_sent = ''\n",
    "  for w in sample:\n",
    "    if w!=0:\n",
    "      kw = inp_lang.index_word[w]\n",
    "      if kw != '<start>' and kw != '<end>':\n",
    "        inp_sent = inp_sent + kw +' '\n",
    "  #print(inp_sent)\n",
    "\n",
    "  pred_sent = translate(inp_sent).replace(' <end> ','')\n",
    "  \n",
    "  targ_sent = ''\n",
    "  for w in target_tensor_val[i]:\n",
    "    if w!=0:\n",
    "      ew = targ_lang.index_word[w]\n",
    "      if ew != '<start>' and ew != '<end>':\n",
    "        targ_sent = targ_sent + ew + ' '\n",
    "  #print(targ_sent)\n",
    "  bleu += bleu_score(pred_sent, targ_sent)\n",
    "  \n",
    "  if i%100 == 0:\n",
    "    print(f'{i+1}samples sampled')\n",
    "  \n",
    "print(f\"총합산한 BLEU스코어: {bleu:.10f}\")"
   ]
  },
  {
   "cell_type": "code",
   "execution_count": 92,
   "metadata": {},
   "outputs": [
    {
     "name": "stdout",
     "output_type": "stream",
     "text": [
      "0.000000\n"
     ]
    }
   ],
   "source": [
    "print(f\"{bleu:.6f}\")"
   ]
  },
  {
   "cell_type": "code",
   "execution_count": 98,
   "metadata": {},
   "outputs": [
    {
     "name": "stdout",
     "output_type": "stream",
     "text": [
      "0.000000000000000000000000000000000000000000000000000000000000\n"
     ]
    }
   ],
   "source": [
    "print(f\"{bleu*200:.60f}\")"
   ]
  },
  {
   "cell_type": "code",
   "execution_count": null,
   "metadata": {},
   "outputs": [],
   "source": []
  }
 ],
 "metadata": {
  "kernelspec": {
   "display_name": "capai",
   "language": "python",
   "name": "python3"
  },
  "language_info": {
   "codemirror_mode": {
    "name": "ipython",
    "version": 3
   },
   "file_extension": ".py",
   "mimetype": "text/x-python",
   "name": "python",
   "nbconvert_exporter": "python",
   "pygments_lexer": "ipython3",
   "version": "3.8.18"
  }
 },
 "nbformat": 4,
 "nbformat_minor": 2
}
